{
 "cells": [
  {
   "cell_type": "code",
   "execution_count": null,
   "id": "4e2a8b7a",
   "metadata": {},
   "outputs": [],
   "source": [
    "import pandas as pd\n",
    "import numpy as np\n",
    "import matplotlib.pyplot as plt\n"
   ]
  },
  {
   "cell_type": "markdown",
   "id": "30a897e7",
   "metadata": {},
   "source": [
    "# Importing Dataset"
   ]
  },
  {
   "cell_type": "code",
   "execution_count": null,
   "id": "9436fbf9",
   "metadata": {},
   "outputs": [],
   "source": [
    "df = pd.read_csv('clean_dataset.csv')"
   ]
  },
  {
   "cell_type": "code",
   "execution_count": null,
   "id": "9adaf9c6",
   "metadata": {},
   "outputs": [],
   "source": [
    "# df.head(10)"
   ]
  },
  {
   "cell_type": "code",
   "execution_count": null,
   "id": "bcd282eb",
   "metadata": {},
   "outputs": [],
   "source": [
    "df.info()"
   ]
  },
  {
   "cell_type": "code",
   "execution_count": null,
   "id": "f0c9e128",
   "metadata": {},
   "outputs": [],
   "source": [
    "df = df[['Country','Employment','ConvertedComp','EdLevel','YearsCodePro']]"
   ]
  },
  {
   "cell_type": "code",
   "execution_count": null,
   "id": "357847e6",
   "metadata": {},
   "outputs": [],
   "source": [
    "df = df.dropna()"
   ]
  },
  {
   "cell_type": "code",
   "execution_count": null,
   "id": "50170274",
   "metadata": {},
   "outputs": [],
   "source": [
    "df.info()"
   ]
  },
  {
   "cell_type": "code",
   "execution_count": null,
   "id": "4a09f1c5",
   "metadata": {},
   "outputs": [],
   "source": [
    "# df.to_csv('stack_overflow_dataset.csv' , index=False )"
   ]
  },
  {
   "cell_type": "code",
   "execution_count": null,
   "id": "7bb31097",
   "metadata": {},
   "outputs": [],
   "source": [
    "df.ConvertedComp.value_counts()"
   ]
  },
  {
   "cell_type": "code",
   "execution_count": null,
   "id": "a03d52cb",
   "metadata": {},
   "outputs": [],
   "source": [
    "df = df.rename({'ConvertedComp':'Salary'} , axis=1)"
   ]
  },
  {
   "cell_type": "code",
   "execution_count": null,
   "id": "3f7a5d13",
   "metadata": {},
   "outputs": [],
   "source": [
    "df"
   ]
  },
  {
   "cell_type": "code",
   "execution_count": null,
   "id": "4ff5d897",
   "metadata": {},
   "outputs": [],
   "source": [
    "df.info()"
   ]
  },
  {
   "cell_type": "code",
   "execution_count": null,
   "id": "f943d16b",
   "metadata": {},
   "outputs": [],
   "source": [
    "df = df[df['Employment'] == 'Employed full-time']"
   ]
  },
  {
   "cell_type": "code",
   "execution_count": null,
   "id": "83f83264",
   "metadata": {},
   "outputs": [],
   "source": [
    "df = df.drop('Employment',axis=1)"
   ]
  },
  {
   "cell_type": "code",
   "execution_count": null,
   "id": "a70fa56f",
   "metadata": {},
   "outputs": [],
   "source": [
    "df.info()"
   ]
  },
  {
   "cell_type": "code",
   "execution_count": null,
   "id": "c0acd08d",
   "metadata": {},
   "outputs": [],
   "source": [
    "df.Country.value_counts()"
   ]
  },
  {
   "cell_type": "code",
   "execution_count": null,
   "id": "e474a8ad",
   "metadata": {},
   "outputs": [],
   "source": [
    "def shorten_categories(categories,cutoff):\n",
    "    \n",
    "    countries = {}\n",
    "    for i in range(len(categories)):\n",
    "        \n",
    "        if categories.values[i] >= cutoff:\n",
    "            countries[categories.index[i]] = categories.index[i]\n",
    "        else:\n",
    "            countries[categories.index[i]] = 'Other'\n",
    "            \n",
    "    return countries\n",
    "        "
   ]
  },
  {
   "cell_type": "code",
   "execution_count": null,
   "id": "852b305c",
   "metadata": {},
   "outputs": [],
   "source": [
    "country_map = shorten_categories(df.Country.value_counts() , 400)\n",
    "\n",
    "df['Country'] =  df['Country'].map(country_map)\n",
    "df"
   ]
  },
  {
   "cell_type": "code",
   "execution_count": null,
   "id": "c61acd7e",
   "metadata": {},
   "outputs": [],
   "source": [
    "df.Country.value_counts()"
   ]
  },
  {
   "cell_type": "code",
   "execution_count": null,
   "id": "ff6c3876",
   "metadata": {},
   "outputs": [],
   "source": [
    "# help(plt.boxplot)"
   ]
  },
  {
   "cell_type": "code",
   "execution_count": null,
   "id": "7cc611b2",
   "metadata": {},
   "outputs": [],
   "source": [
    "fig,ax= plt.subplots(1,1,figsize=(15,7))\n",
    "\n",
    "df.boxplot('Salary','Country',ax=ax)\n",
    "plt.Subtitle('Salary-Country')\n",
    "ply.ylabel('Countries')\n",
    "plt.xlabel('Salries')"
   ]
  },
  {
   "cell_type": "code",
   "execution_count": null,
   "id": "ab86a67a",
   "metadata": {},
   "outputs": [],
   "source": [
    "df = df[df['Salary'] <= 250000]\n",
    "df = df[df['Salary']>=10000]\n",
    "\n",
    "df = df[df['Country'] != 'Other']"
   ]
  },
  {
   "cell_type": "code",
   "execution_count": null,
   "id": "c09d6312",
   "metadata": {},
   "outputs": [],
   "source": [
    "df"
   ]
  },
  {
   "cell_type": "code",
   "execution_count": null,
   "id": "f2e0fc86",
   "metadata": {},
   "outputs": [],
   "source": []
  },
  {
   "cell_type": "code",
   "execution_count": null,
   "id": "a36b93e5",
   "metadata": {},
   "outputs": [],
   "source": []
  },
  {
   "cell_type": "code",
   "execution_count": null,
   "id": "92f1ee30",
   "metadata": {},
   "outputs": [],
   "source": [
    "df['YearsCodePro'].unique()"
   ]
  },
  {
   "cell_type": "code",
   "execution_count": null,
   "id": "955aa0fc",
   "metadata": {},
   "outputs": [],
   "source": [
    "def clean_years(cat):\n",
    "        if cat == 'Less than 1 year':\n",
    "            return 0.5\n",
    "        elif cat == 'More than 50 years':\n",
    "            return 50\n",
    "        else:\n",
    "            return float(cat)\n",
    "            "
   ]
  },
  {
   "cell_type": "code",
   "execution_count": null,
   "id": "042d8280",
   "metadata": {},
   "outputs": [],
   "source": [
    "df['YearsCodePro'] = df['YearsCodePro'].apply(clean_years)"
   ]
  },
  {
   "cell_type": "code",
   "execution_count": null,
   "id": "655d7bde",
   "metadata": {},
   "outputs": [],
   "source": [
    "df"
   ]
  },
  {
   "cell_type": "code",
   "execution_count": null,
   "id": "c312ac70",
   "metadata": {},
   "outputs": [],
   "source": [
    "df['EdLevel'].unique()"
   ]
  },
  {
   "cell_type": "code",
   "execution_count": null,
   "id": "625abf8c",
   "metadata": {},
   "outputs": [],
   "source": [
    "def clean_edu(ed):\n",
    "    \n",
    "    if 'Bachelor’s degree' in ed:\n",
    "        return 'Bachelor’s degree'\n",
    "    elif 'Master’s degree' in ed:\n",
    "        return 'Master’s degree'\n",
    "    elif 'Professional degree' in ed or 'Other Doctoral' in ed:\n",
    "        return 'Post grad'\n",
    "    else:\n",
    "        return 'Less than a Bachelors'"
   ]
  },
  {
   "cell_type": "code",
   "execution_count": null,
   "id": "f19f48ed",
   "metadata": {},
   "outputs": [],
   "source": [
    "df['EdLevel'] = df['EdLevel'].apply(clean_edu)"
   ]
  },
  {
   "cell_type": "code",
   "execution_count": null,
   "id": "867e7b8a",
   "metadata": {},
   "outputs": [],
   "source": [
    "df"
   ]
  },
  {
   "cell_type": "code",
   "execution_count": null,
   "id": "e6f31155",
   "metadata": {},
   "outputs": [],
   "source": [
    "from sklearn.preprocessing import LabelEncoder\n",
    "\n",
    "le_edu = LabelEncoder()\n",
    "df['EdLevel'] = le_edu.fit_transform(df['EdLevel'])\n",
    "\n",
    "le_con = LabelEncoder()\n",
    "df['Country'] = le_con.fit_transform(df['Country'])"
   ]
  },
  {
   "cell_type": "code",
   "execution_count": null,
   "id": "665d2dcd",
   "metadata": {},
   "outputs": [],
   "source": [
    "\n",
    "df['Country'].unique()"
   ]
  },
  {
   "cell_type": "code",
   "execution_count": null,
   "id": "0adfb812",
   "metadata": {},
   "outputs": [],
   "source": [
    "df['EdLevel'].unique()"
   ]
  },
  {
   "cell_type": "code",
   "execution_count": null,
   "id": "b2851990",
   "metadata": {},
   "outputs": [],
   "source": [
    "df"
   ]
  },
  {
   "cell_type": "markdown",
   "id": "37e86e73",
   "metadata": {},
   "source": [
    "# Let's Start"
   ]
  },
  {
   "cell_type": "code",
   "execution_count": null,
   "id": "6449a7fd",
   "metadata": {},
   "outputs": [],
   "source": [
    "x = df.drop('Salary',axis=1)\n",
    "y = df['Salary']\n"
   ]
  },
  {
   "cell_type": "markdown",
   "id": "83a1b25f",
   "metadata": {},
   "source": [
    "Linear regression "
   ]
  },
  {
   "cell_type": "code",
   "execution_count": null,
   "id": "39d0361f",
   "metadata": {},
   "outputs": [],
   "source": [
    "from sklearn.linear_model import LinearRegression\n",
    "\n",
    "lr_model = LinearRegression()\n",
    "\n",
    "lr_model.fit(x,y.values)\n",
    "y_pred = lr_model.predict(x)\n",
    "y_pred"
   ]
  },
  {
   "cell_type": "code",
   "execution_count": null,
   "id": "d89b190c",
   "metadata": {},
   "outputs": [],
   "source": []
  },
  {
   "cell_type": "code",
   "execution_count": null,
   "id": "91250d25",
   "metadata": {},
   "outputs": [],
   "source": [
    "from sklearn.metrics import mean_squared_error,mean_absolute_error\n",
    "\n",
    "error = np.sqrt(mean_squared_error(y,y_pred))\n",
    "error"
   ]
  },
  {
   "cell_type": "markdown",
   "id": "63bf303f",
   "metadata": {},
   "source": [
    "Decision tree"
   ]
  },
  {
   "cell_type": "code",
   "execution_count": null,
   "id": "7d43b107",
   "metadata": {},
   "outputs": [],
   "source": [
    "from sklearn.tree import DecisionTreeRegressor\n",
    "\n",
    "dtr = DecisionTreeRegressor()\n",
    "\n",
    "dtr.fit(x,y.values)\n",
    "y_pred = dtr.predict(x)\n",
    "y_pred"
   ]
  },
  {
   "cell_type": "code",
   "execution_count": null,
   "id": "c35bc42d",
   "metadata": {},
   "outputs": [],
   "source": [
    "from sklearn.metrics import mean_squared_error,mean_absolute_error\n",
    "\n",
    "error = np.sqrt(mean_squared_error(y,y_pred))\n",
    "error"
   ]
  },
  {
   "cell_type": "markdown",
   "id": "9b6545d4",
   "metadata": {},
   "source": [
    "KNN regression "
   ]
  },
  {
   "cell_type": "code",
   "execution_count": null,
   "id": "35daa0a9",
   "metadata": {},
   "outputs": [],
   "source": [
    "from sklearn.neighbors import KNeighborsRegressor\n",
    "# help(KNeighborsRegressor)\n",
    "knn = KNeighborsRegressor(n_neighbors=17)\n",
    "\n",
    "knn.fit(x,y.values)\n",
    "y_pred = knn.predict(x)\n",
    "y_pred"
   ]
  },
  {
   "cell_type": "code",
   "execution_count": null,
   "id": "81d11ade",
   "metadata": {},
   "outputs": [],
   "source": [
    "# def Elbow(n):\n",
    "#     err = []\n",
    "#     for i in range(1,n):\n",
    "        \n",
    "#         lr_model = KNeighborsRegressor(n_neighbors=i)\n",
    "\n",
    "#         lr_model.fit(x,y.values)\n",
    "#         y_pred = lr_model.predict(x)\n",
    "#         err.append(np.sqrt(mean_squared_error(y,y_pred)))\n",
    "        \n",
    "#     return err"
   ]
  },
  {
   "cell_type": "code",
   "execution_count": null,
   "id": "c25a081c",
   "metadata": {},
   "outputs": [],
   "source": [
    "# n = 100\n",
    "# err = Elbow(n)\n",
    "\n",
    "\n",
    "# plt.plot(range(1,n-50) , err[1:50])"
   ]
  },
  {
   "cell_type": "code",
   "execution_count": null,
   "id": "0b695408",
   "metadata": {},
   "outputs": [],
   "source": [
    "from sklearn.metrics import mean_squared_error,mean_absolute_error\n",
    "\n",
    "error = np.sqrt(mean_squared_error(y,y_pred))\n",
    "error"
   ]
  },
  {
   "cell_type": "markdown",
   "id": "4af3d834",
   "metadata": {},
   "source": [
    "Random Forest "
   ]
  },
  {
   "cell_type": "code",
   "execution_count": null,
   "id": "18ae5de3",
   "metadata": {},
   "outputs": [],
   "source": [
    "from sklearn.ensemble import RandomForestRegressor\n",
    "# help(KNeighborsRegressor)\n",
    "reg = RandomForestRegressor(random_state=0)\n",
    "\n",
    "reg.fit(x,y.values)\n",
    "\n",
    "y_pred = reg.predict(x)\n",
    "y_pred"
   ]
  },
  {
   "cell_type": "code",
   "execution_count": null,
   "id": "2f48bf64",
   "metadata": {},
   "outputs": [],
   "source": [
    "from sklearn.metrics import mean_squared_error,mean_absolute_error\n",
    "\n",
    "error = np.sqrt(mean_squared_error(y,y_pred))\n",
    "error"
   ]
  },
  {
   "cell_type": "markdown",
   "id": "573876df",
   "metadata": {},
   "source": [
    "# Creating user data"
   ]
  },
  {
   "cell_type": "code",
   "execution_count": null,
   "id": "5649737b",
   "metadata": {},
   "outputs": [],
   "source": [
    "X = np.array([[\"United States\",\"Master’s degree\",15]])\n",
    "X"
   ]
  },
  {
   "cell_type": "code",
   "execution_count": null,
   "id": "fcdd522f",
   "metadata": {},
   "outputs": [],
   "source": [
    "X[:,0] = le_con.transform(X[:,0])\n",
    "X[:,1] = le_edu.transform(X[:,1])\n",
    "X = X.astype(float)\n"
   ]
  },
  {
   "cell_type": "code",
   "execution_count": null,
   "id": "d217775d",
   "metadata": {},
   "outputs": [],
   "source": [
    "X"
   ]
  },
  {
   "cell_type": "code",
   "execution_count": null,
   "id": "5759fc2c",
   "metadata": {},
   "outputs": [],
   "source": [
    "y_pred = dtr.predict(X)"
   ]
  },
  {
   "cell_type": "code",
   "execution_count": null,
   "id": "25df363c",
   "metadata": {},
   "outputs": [],
   "source": [
    "y_pred"
   ]
  },
  {
   "cell_type": "markdown",
   "id": "c99a14e2",
   "metadata": {},
   "source": [
    "\n",
    "# Importing picle"
   ]
  },
  {
   "cell_type": "code",
   "execution_count": null,
   "id": "4dcf8d93",
   "metadata": {},
   "outputs": [],
   "source": [
    "import pickle"
   ]
  },
  {
   "cell_type": "code",
   "execution_count": null,
   "id": "dc773ba7",
   "metadata": {},
   "outputs": [],
   "source": [
    "data = {\"model\":dtr , \"le_con\":le_con ,\"le_edu\":le_edu }\n",
    "with open('saved_steps.pkl','wb') as file:\n",
    "    pickle.dump(data,file)"
   ]
  },
  {
   "cell_type": "code",
   "execution_count": null,
   "id": "3223b085",
   "metadata": {},
   "outputs": [],
   "source": [
    "with open('saved_steps.pkl','rb') as file:\n",
    "    data = pickle.load(file)\n",
    "    \n",
    "regressor_loaded = data['model']\n",
    "le_edu = data['le_edu']\n",
    "le_con = data['le_con']"
   ]
  },
  {
   "cell_type": "code",
   "execution_count": null,
   "id": "b3ec5b6c",
   "metadata": {},
   "outputs": [],
   "source": [
    "y_pred = regressor_loaded.predict(X)\n",
    "y_pred"
   ]
  },
  {
   "cell_type": "code",
   "execution_count": null,
   "id": "317feec4",
   "metadata": {},
   "outputs": [],
   "source": []
  },
  {
   "cell_type": "code",
   "execution_count": null,
   "id": "67668b6b",
   "metadata": {},
   "outputs": [],
   "source": []
  },
  {
   "cell_type": "code",
   "execution_count": null,
   "id": "c009c0d5",
   "metadata": {},
   "outputs": [],
   "source": []
  },
  {
   "cell_type": "code",
   "execution_count": null,
   "id": "76f6ffec",
   "metadata": {},
   "outputs": [],
   "source": []
  },
  {
   "cell_type": "code",
   "execution_count": null,
   "id": "7b04ced7",
   "metadata": {},
   "outputs": [],
   "source": []
  },
  {
   "cell_type": "code",
   "execution_count": null,
   "id": "004ac81d",
   "metadata": {},
   "outputs": [],
   "source": []
  },
  {
   "cell_type": "code",
   "execution_count": null,
   "id": "d29f5903",
   "metadata": {},
   "outputs": [],
   "source": []
  },
  {
   "cell_type": "code",
   "execution_count": null,
   "id": "dc409b18",
   "metadata": {},
   "outputs": [],
   "source": []
  },
  {
   "cell_type": "code",
   "execution_count": null,
   "id": "ea7c2440",
   "metadata": {},
   "outputs": [],
   "source": []
  },
  {
   "cell_type": "code",
   "execution_count": null,
   "id": "c25b8613",
   "metadata": {},
   "outputs": [],
   "source": []
  },
  {
   "cell_type": "code",
   "execution_count": null,
   "id": "4adb68f3",
   "metadata": {},
   "outputs": [],
   "source": []
  },
  {
   "cell_type": "code",
   "execution_count": null,
   "id": "ab1e9117",
   "metadata": {},
   "outputs": [],
   "source": []
  },
  {
   "cell_type": "code",
   "execution_count": null,
   "id": "673ef97f",
   "metadata": {},
   "outputs": [],
   "source": []
  },
  {
   "cell_type": "code",
   "execution_count": null,
   "id": "ddf42f03",
   "metadata": {},
   "outputs": [],
   "source": []
  },
  {
   "cell_type": "code",
   "execution_count": null,
   "id": "0963be23",
   "metadata": {},
   "outputs": [],
   "source": []
  },
  {
   "cell_type": "code",
   "execution_count": null,
   "id": "e8451d17",
   "metadata": {},
   "outputs": [],
   "source": []
  },
  {
   "cell_type": "code",
   "execution_count": null,
   "id": "6b1f6f14",
   "metadata": {},
   "outputs": [],
   "source": []
  },
  {
   "cell_type": "code",
   "execution_count": null,
   "id": "7896bb1c",
   "metadata": {},
   "outputs": [],
   "source": []
  },
  {
   "cell_type": "code",
   "execution_count": null,
   "id": "a1fa96d4",
   "metadata": {},
   "outputs": [],
   "source": []
  },
  {
   "cell_type": "code",
   "execution_count": null,
   "id": "b4695ab8",
   "metadata": {},
   "outputs": [],
   "source": []
  },
  {
   "cell_type": "code",
   "execution_count": null,
   "id": "23d22192",
   "metadata": {},
   "outputs": [],
   "source": []
  },
  {
   "cell_type": "code",
   "execution_count": null,
   "id": "e1aac148",
   "metadata": {},
   "outputs": [],
   "source": []
  },
  {
   "cell_type": "code",
   "execution_count": null,
   "id": "13d1135d",
   "metadata": {},
   "outputs": [],
   "source": []
  }
 ],
 "metadata": {
  "kernelspec": {
   "display_name": "Python 3 (ipykernel)",
   "language": "python",
   "name": "python3"
  },
  "language_info": {
   "codemirror_mode": {
    "name": "ipython",
    "version": 3
   },
   "file_extension": ".py",
   "mimetype": "text/x-python",
   "name": "python",
   "nbconvert_exporter": "python",
   "pygments_lexer": "ipython3",
   "version": "3.9.12"
  }
 },
 "nbformat": 4,
 "nbformat_minor": 5
}
